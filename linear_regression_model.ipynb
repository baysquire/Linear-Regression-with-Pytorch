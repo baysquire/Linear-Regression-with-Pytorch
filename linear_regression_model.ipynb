{
  "nbformat": 4,
  "nbformat_minor": 0,
  "metadata": {
    "colab": {
      "provenance": [],
      "authorship_tag": "ABX9TyPRkw8aWKqRplyqsIxNE2kL",
      "include_colab_link": true
    },
    "kernelspec": {
      "name": "python3",
      "display_name": "Python 3"
    },
    "language_info": {
      "name": "python"
    },
    "accelerator": "GPU",
    "gpuClass": "standard"
  },
  "cells": [
    {
      "cell_type": "markdown",
      "metadata": {
        "id": "view-in-github",
        "colab_type": "text"
      },
      "source": [
        "<a href=\"https://colab.research.google.com/github/baysquire/Linear-Regression-with-Pytorch/blob/master/linear_regression_model.ipynb\" target=\"_parent\"><img src=\"https://colab.research.google.com/assets/colab-badge.svg\" alt=\"Open In Colab\"/></a>"
      ]
    },
    {
      "cell_type": "code",
      "execution_count": null,
      "metadata": {
        "id": "N0gyUQWnf_TF"
      },
      "outputs": [],
      "source": []
    },
    {
      "cell_type": "markdown",
      "source": [
        "### Preparing to build the first Linear model"
      ],
      "metadata": {
        "id": "xI37Zw_khRZN"
      }
    },
    {
      "cell_type": "code",
      "source": [
        "import torch\n",
        "from torch import nn\n",
        "import matplotlib.pyplot as plt"
      ],
      "metadata": {
        "id": "yAE8R9KEhcHU"
      },
      "execution_count": null,
      "outputs": []
    },
    {
      "cell_type": "code",
      "source": [
        "# check the torch version\n",
        "torch.__version__\n",
        "\n",
        "# setup GPU device \n",
        "device = \"cuda\" if torch.cuda.is_available() else \"cpu\"\n"
      ],
      "metadata": {
        "id": "BsZewaPGhcKc"
      },
      "execution_count": null,
      "outputs": []
    },
    {
      "cell_type": "code",
      "source": [
        "torch.cuda.is_available()"
      ],
      "metadata": {
        "colab": {
          "base_uri": "https://localhost:8080/"
        },
        "id": "LyA3W9SxhcNs",
        "outputId": "1838f28b-cc4f-4ccc-ca1b-71f96fbbeba9"
      },
      "execution_count": null,
      "outputs": [
        {
          "output_type": "execute_result",
          "data": {
            "text/plain": [
              "False"
            ]
          },
          "metadata": {},
          "execution_count": 55
        }
      ]
    },
    {
      "cell_type": "code",
      "source": [
        "device"
      ],
      "metadata": {
        "colab": {
          "base_uri": "https://localhost:8080/",
          "height": 35
        },
        "id": "paX1RrBcilzu",
        "outputId": "e485aa37-36b9-4358-d75a-fffcdc6f5a6c"
      },
      "execution_count": null,
      "outputs": [
        {
          "output_type": "execute_result",
          "data": {
            "text/plain": [
              "'cpu'"
            ],
            "application/vnd.google.colaboratory.intrinsic+json": {
              "type": "string"
            }
          },
          "metadata": {},
          "execution_count": 56
        }
      ]
    },
    {
      "cell_type": "code",
      "source": [
        "###"
      ],
      "metadata": {
        "id": "kaVxjUdphcQj"
      },
      "execution_count": null,
      "outputs": []
    },
    {
      "cell_type": "markdown",
      "source": [
        "### Data Generation"
      ],
      "metadata": {
        "id": "2zIJU5iwjV6N"
      }
    },
    {
      "cell_type": "code",
      "source": [
        "# \n",
        "weight = 0.7\n",
        "bias = 0.3\n",
        "\n",
        "#\n",
        "start = 0\n",
        "end = 10\n",
        "step = 0.01\n",
        "\n",
        "# Generate X numbers\n",
        "X = torch.arange(start, end, step).unsqueeze(dim=1)\n",
        "y = weight * X + bias\n"
      ],
      "metadata": {
        "id": "_X4CcalrhcTM"
      },
      "execution_count": null,
      "outputs": []
    },
    {
      "cell_type": "code",
      "source": [
        "X[:10]"
      ],
      "metadata": {
        "colab": {
          "base_uri": "https://localhost:8080/"
        },
        "id": "LSdBbsa5hcV4",
        "outputId": "cb554150-dab4-47f4-dfa5-1cd038097530"
      },
      "execution_count": null,
      "outputs": [
        {
          "output_type": "execute_result",
          "data": {
            "text/plain": [
              "tensor([[0.0000],\n",
              "        [0.0100],\n",
              "        [0.0200],\n",
              "        [0.0300],\n",
              "        [0.0400],\n",
              "        [0.0500],\n",
              "        [0.0600],\n",
              "        [0.0700],\n",
              "        [0.0800],\n",
              "        [0.0900]])"
            ]
          },
          "metadata": {},
          "execution_count": 103
        }
      ]
    },
    {
      "cell_type": "code",
      "source": [
        "y[:10]"
      ],
      "metadata": {
        "colab": {
          "base_uri": "https://localhost:8080/"
        },
        "id": "0Hm-SOO1hcYi",
        "outputId": "a244322c-7414-4cae-b5cb-774b6c999140"
      },
      "execution_count": null,
      "outputs": [
        {
          "output_type": "execute_result",
          "data": {
            "text/plain": [
              "tensor([[0.3000],\n",
              "        [0.3070],\n",
              "        [0.3140],\n",
              "        [0.3210],\n",
              "        [0.3280],\n",
              "        [0.3350],\n",
              "        [0.3420],\n",
              "        [0.3490],\n",
              "        [0.3560],\n",
              "        [0.3630]])"
            ]
          },
          "metadata": {},
          "execution_count": 104
        }
      ]
    },
    {
      "cell_type": "code",
      "source": [],
      "metadata": {
        "id": "XGNwTEJWhcbh"
      },
      "execution_count": null,
      "outputs": []
    },
    {
      "cell_type": "code",
      "source": [
        "plt.scatter(X,y, cmap=\"RdBuYl\", c=\"b\")\n"
      ],
      "metadata": {
        "colab": {
          "base_uri": "https://localhost:8080/",
          "height": 282
        },
        "id": "eVxlNATHhceB",
        "outputId": "d81951bd-bfe9-42e8-a697-087c9175a7fb"
      },
      "execution_count": null,
      "outputs": [
        {
          "output_type": "execute_result",
          "data": {
            "text/plain": [
              "<matplotlib.collections.PathCollection at 0x7feba30abd00>"
            ]
          },
          "metadata": {},
          "execution_count": 105
        },
        {
          "output_type": "display_data",
          "data": {
            "text/plain": [
              "<Figure size 432x288 with 1 Axes>"
            ],
            "image/png": "[encoded data removed]"
          },
          "metadata": {
            "needs_background": "light"
          }
        }
      ]
    },
    {
      "cell_type": "markdown",
      "source": [
        "### Training and Testing Splitting"
      ],
      "metadata": {
        "id": "fdtLwlRAl_r2"
      }
    },
    {
      "cell_type": "code",
      "source": [
        "# import train_test_split from sklearn module\n",
        "# from sklearn.model_selection import train_test_split\n",
        "\n",
        "# X_train, X_test, y_train, y_test = train_test_split(X,y, test_size=0.2)\n",
        "\n",
        "# Create a new train/test split\n",
        "train_split = int(len(X) * 0.8)\n",
        "X_train, y_train  = X[:train_split], y[:train_split]\n",
        "X_test, y_test = X[train_split:], y[train_split:]"
      ],
      "metadata": {
        "id": "7c-9d0n_hchA"
      },
      "execution_count": null,
      "outputs": []
    },
    {
      "cell_type": "code",
      "source": [
        "y_test[:8]"
      ],
      "metadata": {
        "colab": {
          "base_uri": "https://localhost:8080/"
        },
        "id": "XCdzObNYReVw",
        "outputId": "b3d4cdda-3240-465c-b559-4e839ddf9a65"
      },
      "execution_count": null,
      "outputs": [
        {
          "output_type": "execute_result",
          "data": {
            "text/plain": [
              "tensor([[5.9000],\n",
              "        [5.9070],\n",
              "        [5.9140],\n",
              "        [5.9210],\n",
              "        [5.9280],\n",
              "        [5.9350],\n",
              "        [5.9420],\n",
              "        [5.9490]])"
            ]
          },
          "metadata": {},
          "execution_count": 131
        }
      ]
    },
    {
      "cell_type": "code",
      "source": [
        "plt.scatter(X_test,y_test, c=\"r\")\n",
        "plt.show()"
      ],
      "metadata": {
        "colab": {
          "base_uri": "https://localhost:8080/",
          "height": 265
        },
        "id": "Hgp7WDoyp2_S",
        "outputId": "2b8ef182-f56f-459f-9279-4d64c2bf8811"
      },
      "execution_count": null,
      "outputs": [
        {
          "output_type": "display_data",
          "data": {
            "text/plain": [
              "<Figure size 432x288 with 1 Axes>"
            ],
            "image/png": "[encoded data removed]"
          },
          "metadata": {
            "needs_background": "light"
          }
        }
      ]
    },
    {
      "cell_type": "markdown",
      "source": [
        "### Create a function mainly for prediction visualization"
      ],
      "metadata": {
        "id": "IQS0ZJc2s92N"
      }
    },
    {
      "cell_type": "code",
      "source": [
        "# function for visualization\n",
        "def linear_prediction(train_data = X_train,\n",
        "                      train_label = y_train,\n",
        "                      test_data = X_test,\n",
        "                      test_label = y_test,\n",
        "                      predictions = None):\n",
        "  # setup the canvas\n",
        "  plt.figure(figsize=(12,8))\n",
        "\n",
        "  # Train dataset plotting\n",
        "  plt.scatter(train_data, train_label, c=\"b\", s=4, label=\"Training\")\n",
        "\n",
        "  # Test dataset plotting\n",
        "  plt.scatter(test_data, test_label, c=\"r\", s=4, label=\"Testing\")\n",
        "\n",
        "  # Condition for prediction\n",
        "  if predictions is not None:\n",
        "    # prediction plotting\n",
        "    plt.scatter(test_data, predictions, c=\"g\", s=4, label=\"Predicting\")\n",
        "\n",
        "  plt.legend(prop={\"size\": 14})\n",
        "  plt.title(\"Linear Model\")\n",
        "  plt.xlabel(\"X values\")\n",
        "  plt.ylabel(\"y values\")\n",
        "  # plt.show()\n",
        "\n"
      ],
      "metadata": {
        "id": "EOuE-L6jp3CR"
      },
      "execution_count": null,
      "outputs": []
    },
    {
      "cell_type": "code",
      "source": [
        "linear_prediction()"
      ],
      "metadata": {
        "colab": {
          "base_uri": "https://localhost:8080/",
          "height": 513
        },
        "id": "wBY_TTMmp3FR",
        "outputId": "f2fca98d-6dcc-4621-b6de-3b8e4ad69d38"
      },
      "execution_count": null,
      "outputs": [
        {
          "output_type": "display_data",
          "data": {
            "text/plain": [
              "<Figure size 864x576 with 1 Axes>"
            ],
            "image/png": "[encoded data removed]"
          },
          "metadata": {
            "needs_background": "light"
          }
        }
      ]
    },
    {
      "cell_type": "code",
      "source": [],
      "metadata": {
        "id": "QcXr3Wwhp3Hw"
      },
      "execution_count": null,
      "outputs": []
    },
    {
      "cell_type": "markdown",
      "source": [
        "### Build our Linear Model"
      ],
      "metadata": {
        "id": "WXeiO2_m3UHu"
      }
    },
    {
      "cell_type": "code",
      "source": [
        "# Create a class for the model and subclass the nn.Module class\n",
        "class FirstLinearModel(nn.Module):\n",
        "  def __init__(self):\n",
        "    super().__init__()\n",
        "\n",
        "    self.weight = nn.Parameter(torch.randn(1,\n",
        "                                           requires_grad=True,\n",
        "                                           dtype=torch.float32))\n",
        "    self.bias = nn.Parameter(torch.rand(1,\n",
        "                                        requires_grad=True,\n",
        "                                        dtype=torch.float32))\n",
        "  # Forward Propagation\n",
        "  def forward(self, x: torch.Tensor) -> torch.Tensor:\n",
        "    return self.weight * x + self.bias\n",
        "\n"
      ],
      "metadata": {
        "id": "muA-i7aHhcky"
      },
      "execution_count": null,
      "outputs": []
    },
    {
      "cell_type": "code",
      "source": [
        "# Create the instance of the model\n",
        "model_1 = FirstLinearModel()"
      ],
      "metadata": {
        "id": "2vtHlelM7ayn"
      },
      "execution_count": null,
      "outputs": []
    },
    {
      "cell_type": "code",
      "source": [
        "list(model_1.parameters())"
      ],
      "metadata": {
        "colab": {
          "base_uri": "https://localhost:8080/"
        },
        "id": "rgUTA0TC7a2P",
        "outputId": "d03c45cf-603e-4b01-a354-a890b51f3907"
      },
      "execution_count": null,
      "outputs": [
        {
          "output_type": "execute_result",
          "data": {
            "text/plain": [
              "[Parameter containing:\n",
              " tensor([-2.3873], requires_grad=True), Parameter containing:\n",
              " tensor([0.8664], requires_grad=True)]"
            ]
          },
          "metadata": {},
          "execution_count": 68
        }
      ]
    },
    {
      "cell_type": "code",
      "source": [
        "model_1.state_dict()"
      ],
      "metadata": {
        "colab": {
          "base_uri": "https://localhost:8080/"
        },
        "id": "zp7hb4RG7a5p",
        "outputId": "68e8d919-43c3-4b0f-9912-158789d7c7fc"
      },
      "execution_count": null,
      "outputs": [
        {
          "output_type": "execute_result",
          "data": {
            "text/plain": [
              "OrderedDict([('weight', tensor([-2.3873])), ('bias', tensor([0.8664]))])"
            ]
          },
          "metadata": {},
          "execution_count": 69
        }
      ]
    },
    {
      "cell_type": "code",
      "source": [
        "# Set manuel seed\n",
        "# torch.manual_seed(42)\n",
        "\n",
        "# Check if the untrained model could predict well\n",
        "with torch.inference_mode():\n",
        "  y_preds = model_1(X_test)\n",
        "# y_pred = y_preds.numpy()\n",
        "\n",
        "# visualize the prediction\n",
        "linear_prediction(predictions=y_preds)\n"
      ],
      "metadata": {
        "colab": {
          "base_uri": "https://localhost:8080/",
          "height": 483
        },
        "id": "dJlYdPac3K56",
        "outputId": "d6e35241-e93a-4016-8b8a-460598d93288"
      },
      "execution_count": null,
      "outputs": [
        {
          "output_type": "display_data",
          "data": {
            "text/plain": [
              "<Figure size 864x576 with 1 Axes>"
            ],
            "image/png": "[encoded data removed]"
          },
          "metadata": {
            "needs_background": "light"
          }
        }
      ]
    },
    {
      "cell_type": "code",
      "source": [
        "y_test.shape"
      ],
      "metadata": {
        "colab": {
          "base_uri": "https://localhost:8080/"
        },
        "id": "u8HoyNGg3LHQ",
        "outputId": "3efac88c-fe00-4245-fd58-540f4032894e"
      },
      "execution_count": null,
      "outputs": [
        {
          "output_type": "execute_result",
          "data": {
            "text/plain": [
              "torch.Size([200, 1])"
            ]
          },
          "metadata": {},
          "execution_count": 76
        }
      ]
    },
    {
      "cell_type": "markdown",
      "source": [
        "### Create loss function, optimizer and accuracy "
      ],
      "metadata": {
        "id": "oc5UQCIfaDTr"
      }
    },
    {
      "cell_type": "code",
      "source": [
        "# loss function\n",
        "loss_func = nn.L1Loss()\n",
        "\n",
        "# Optimizer\n",
        "optimizer = torch.optim.SGD(model_1.parameters(),\n",
        "                      lr=0.1)\n"
      ],
      "metadata": {
        "id": "9s4Tj6gf3LKb"
      },
      "execution_count": null,
      "outputs": []
    },
    {
      "cell_type": "markdown",
      "source": [
        "### Create the Training and Testing LOOPs"
      ],
      "metadata": {
        "id": "YUpP8bZPmNNJ"
      }
    },
    {
      "cell_type": "code",
      "source": [
        "# set manual seed\n",
        "# torch.manual_seed(42)\n",
        "\n",
        "# set epochs\n",
        "epochs = 200\n",
        "\n",
        "# track different values\n",
        "epoch_count=[]\n",
        "train_loss=[]\n",
        "test_loss=[]\n",
        "\n",
        "# Start the Loop\n",
        "for epoch in range(epochs):\n",
        "  # Training Loop\n",
        "  model_1.train()\n",
        "\n",
        "  # 1. Forward Pass\n",
        "  y_pred = model_1(X_train)\n",
        "\n",
        "  # 2. Calculate the loss\n",
        "  loss_train = loss_func(y_pred, y_train)\n",
        "\n",
        "  # 3. Optimize zero grad\n",
        "  optimizer.zero_grad()\n",
        "\n",
        "  # 4. Backward Propagation\n",
        "  loss_train.backward()\n",
        "\n",
        "  # 5. Optimize step\n",
        "  optimizer.step()\n",
        "\n",
        "  # Testing Loop\n",
        "  model_1.eval()\n",
        "\n",
        "  with torch.inference_mode():\n",
        "    test_pred = model_1(X_test)\n",
        "\n",
        "    # Calculate the loss\n",
        "    loss_test = loss_func(test_pred, y_test)\n",
        "  \n",
        "  if epoch % 10 == 0:\n",
        "    epoch_count.append(epoch)\n",
        "    train_loss.append(loss_train)\n",
        "    test_loss.append(loss_test)\n",
        "    # print(f\"epoch: {epoch}\")\n",
        "    print(f\"epochs: {epoch} | train loss: {loss_train} | test loss: {loss_test}\")\n",
        "    print(f\"{model_1.state_dict()}\")\n",
        "\n",
        "\n",
        "\n",
        "\n"
      ],
      "metadata": {
        "colab": {
          "base_uri": "https://localhost:8080/"
        },
        "id": "JO5VJ1Uy3LNW",
        "outputId": "efa888bc-0732-4872-abdc-43d5bd97beef"
      },
      "execution_count": null,
      "outputs": [
        {
          "output_type": "stream",
          "name": "stdout",
          "text": [
            "epochs: 0 | train loss: 0.006857403554022312 | test loss: 3.6905734539031982\n",
            "OrderedDict([('weight', tensor([0.2997])), ('bias', tensor([0.2100]))])\n",
            "epochs: 10 | train loss: 0.006857403554022312 | test loss: 3.6905734539031982\n",
            "OrderedDict([('weight', tensor([0.2997])), ('bias', tensor([0.2100]))])\n",
            "epochs: 20 | train loss: 0.006857403554022312 | test loss: 3.6905734539031982\n",
            "OrderedDict([('weight', tensor([0.2997])), ('bias', tensor([0.2100]))])\n",
            "epochs: 30 | train loss: 0.006857403554022312 | test loss: 3.6905734539031982\n",
            "OrderedDict([('weight', tensor([0.2997])), ('bias', tensor([0.2100]))])\n",
            "epochs: 40 | train loss: 0.006857403554022312 | test loss: 3.6905734539031982\n",
            "OrderedDict([('weight', tensor([0.2997])), ('bias', tensor([0.2100]))])\n",
            "epochs: 50 | train loss: 0.006857403554022312 | test loss: 3.6905734539031982\n",
            "OrderedDict([('weight', tensor([0.2997])), ('bias', tensor([0.2100]))])\n",
            "epochs: 60 | train loss: 0.006857403554022312 | test loss: 3.6905734539031982\n",
            "OrderedDict([('weight', tensor([0.2997])), ('bias', tensor([0.2100]))])\n",
            "epochs: 70 | train loss: 0.006857403554022312 | test loss: 3.6905734539031982\n",
            "OrderedDict([('weight', tensor([0.2997])), ('bias', tensor([0.2100]))])\n",
            "epochs: 80 | train loss: 0.006857403554022312 | test loss: 3.6905734539031982\n",
            "OrderedDict([('weight', tensor([0.2997])), ('bias', tensor([0.2100]))])\n",
            "epochs: 90 | train loss: 0.006857403554022312 | test loss: 3.6905734539031982\n",
            "OrderedDict([('weight', tensor([0.2997])), ('bias', tensor([0.2100]))])\n",
            "epochs: 100 | train loss: 0.006857403554022312 | test loss: 3.6905734539031982\n",
            "OrderedDict([('weight', tensor([0.2997])), ('bias', tensor([0.2100]))])\n",
            "epochs: 110 | train loss: 0.006857403554022312 | test loss: 3.6905734539031982\n",
            "OrderedDict([('weight', tensor([0.2997])), ('bias', tensor([0.2100]))])\n",
            "epochs: 120 | train loss: 0.006857403554022312 | test loss: 3.6905734539031982\n",
            "OrderedDict([('weight', tensor([0.2997])), ('bias', tensor([0.2100]))])\n",
            "epochs: 130 | train loss: 0.006857403554022312 | test loss: 3.6905734539031982\n",
            "OrderedDict([('weight', tensor([0.2997])), ('bias', tensor([0.2100]))])\n",
            "epochs: 140 | train loss: 0.006857403554022312 | test loss: 3.6905734539031982\n",
            "OrderedDict([('weight', tensor([0.2997])), ('bias', tensor([0.2100]))])\n",
            "epochs: 150 | train loss: 0.006857403554022312 | test loss: 3.6905734539031982\n",
            "OrderedDict([('weight', tensor([0.2997])), ('bias', tensor([0.2100]))])\n",
            "epochs: 160 | train loss: 0.006857403554022312 | test loss: 3.6905734539031982\n",
            "OrderedDict([('weight', tensor([0.2997])), ('bias', tensor([0.2100]))])\n",
            "epochs: 170 | train loss: 0.006857403554022312 | test loss: 3.6905734539031982\n",
            "OrderedDict([('weight', tensor([0.2997])), ('bias', tensor([0.2100]))])\n",
            "epochs: 180 | train loss: 0.006857403554022312 | test loss: 3.6905734539031982\n",
            "OrderedDict([('weight', tensor([0.2997])), ('bias', tensor([0.2100]))])\n",
            "epochs: 190 | train loss: 0.006857403554022312 | test loss: 3.6905734539031982\n",
            "OrderedDict([('weight', tensor([0.2997])), ('bias', tensor([0.2100]))])\n"
          ]
        }
      ]
    },
    {
      "cell_type": "code",
      "source": [
        "model_1.state_dict()"
      ],
      "metadata": {
        "colab": {
          "base_uri": "https://localhost:8080/"
        },
        "id": "4dAIy-2b4A02",
        "outputId": "d25bc55b-645f-4d62-c6eb-6e8217e381e9"
      },
      "execution_count": null,
      "outputs": [
        {
          "output_type": "execute_result",
          "data": {
            "text/plain": [
              "OrderedDict([('weight', tensor([0.6992])), ('bias', tensor([0.3100]))])"
            ]
          },
          "metadata": {},
          "execution_count": 192
        }
      ]
    },
    {
      "cell_type": "code",
      "source": [
        "linear_prediction(predictions=test_pred)"
      ],
      "metadata": {
        "colab": {
          "base_uri": "https://localhost:8080/",
          "height": 513
        },
        "id": "cJRFKM703LQp",
        "outputId": "85f5ceba-720c-4749-a627-089a4aa67057"
      },
      "execution_count": null,
      "outputs": [
        {
          "output_type": "display_data",
          "data": {
            "text/plain": [
              "<Figure size 864x576 with 1 Axes>"
            ],
            "image/png": "[encoded data removed]"
          },
          "metadata": {
            "needs_background": "light"
          }
        }
      ]
    },
    {
      "cell_type": "markdown",
      "source": [
        "#### Great! our model performed well."
      ],
      "metadata": {
        "id": "mmfJIr6gOGy1"
      }
    },
    {
      "cell_type": "code",
      "source": [
        "import numpy as np\n",
        "A = np.array(loss_train.detach().numpy())\n",
        "B = np.array(loss_test.detach().numpy())\n",
        "B\n",
        "\n",
        "# plt.plot(epoch_count, A, label=\"Training loss\")\n",
        "# plt.plot(epoch_count, B, label=\"Testing loss\")\n"
      ],
      "metadata": {
        "colab": {
          "base_uri": "https://localhost:8080/"
        },
        "id": "wY3zdT4k3LTv",
        "outputId": "a7c100a1-6424-4bb7-92df-bb1daeed6a59"
      },
      "execution_count": null,
      "outputs": [
        {
          "output_type": "execute_result",
          "data": {
            "text/plain": [
              "array(0.0029287, dtype=float32)"
            ]
          },
          "metadata": {},
          "execution_count": 189
        }
      ]
    },
    {
      "cell_type": "code",
      "source": [
        "plt.plot()"
      ],
      "metadata": {
        "id": "7c47tHyk3LW6"
      },
      "execution_count": null,
      "outputs": []
    },
    {
      "cell_type": "code",
      "source": [
        "torch.tensor(loss_train)"
      ],
      "metadata": {
        "colab": {
          "base_uri": "https://localhost:8080/"
        },
        "id": "CX2Vk66i3LaV",
        "outputId": "47f9ab77-3d8b-42c7-e7a3-033da716b53f"
      },
      "execution_count": null,
      "outputs": [
        {
          "output_type": "stream",
          "name": "stderr",
          "text": [
            "<ipython-input-177-f8fbe5b627cb>:1: UserWarning: To copy construct from a tensor, it is recommended to use sourceTensor.clone().detach() or sourceTensor.clone().detach().requires_grad_(True), rather than torch.tensor(sourceTensor).\n",
            "  torch.tensor(loss_train)\n"
          ]
        },
        {
          "output_type": "execute_result",
          "data": {
            "text/plain": [
              "tensor(1.6891)"
            ]
          },
          "metadata": {},
          "execution_count": 177
        }
      ]
    },
    {
      "cell_type": "code",
      "source": [],
      "metadata": {
        "id": "Rimk313lhcoe"
      },
      "execution_count": null,
      "outputs": []
    }
  ]
}